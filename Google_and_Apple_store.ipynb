{
 "cells": [
  {
   "cell_type": "markdown",
   "metadata": {},
   "source": [
    "# Which Type of Free Apps Attract More Users"
   ]
  },
  {
   "cell_type": "markdown",
   "metadata": {},
   "source": [
    "## Goal of this Project\n",
    "\n",
    "The goal of this project is to collect and analyze data from both the App Store and Google Play Store in order to determine which type of free apps are more likely to attract more user engagement thus leading to higher ad revenue for our company.\n",
    "\n",
    "Our company produces free apps on both the Apple app store and Google Play store already. With more information from the types of apps that are generating more engagement from users we can make better decisions on which types of apps to produce and which would be better on which respective platform. This will result in a bigger profit for our company from the near [100+ billion dollars produced by apps in 2021](https://www.businessofapps.com/data/app-revenues/)\n",
    "\n",
    "## Opening and Exploring the Data\n",
    "\n",
    "With millions of apps avaliable on the both platforms it's difficult to parse and analyze such a huge dataset. Fortunately there are two sample data sets from Kaggle using real apps from the [App Store](https://www.kaggle.com/ramamet4/app-store-apple-data-set-10k-apps) and the [Google Play Store](https://www.kaggle.com/lava18/google-play-store-apps).\n",
    "\n",
    "-  The Google Play Store data has ~10,000 apps in the dataset\n",
    "-  The Apple Store Data has ~7000 apps in the data set\n",
    "\n",
    "We first need to download and open both datasets through Juypter in order to start exploring the data"
   ]
  },
  {
   "cell_type": "code",
   "execution_count": 1,
   "metadata": {},
   "outputs": [],
   "source": [
    "# Open both the google and apple store app data\n",
    "opened_ios_file = open('AppleStore.csv')\n",
    "opened_google_file = open('googleplaystore.csv')\n",
    "from csv import reader\n",
    "read_ios_file = reader(opened_ios_file)\n",
    "read_google_file = reader(opened_google_file)\n",
    "apps_ios_data = list(read_ios_file)\n",
    "apps_google_data = list(read_google_file)"
   ]
  },
  {
   "cell_type": "markdown",
   "metadata": {},
   "source": [
    "After opening both we will then define a function called `explore_data` that will go through a give dataset given a certain range and print the row with spacing to make it easier to read. We will also set in a `rows_and_columns` parameter that, if `True`, will give us the len of the dataset and the number of header columns it has."
   ]
  },
  {
   "cell_type": "code",
   "execution_count": 2,
   "metadata": {},
   "outputs": [],
   "source": [
    "# Goes through the dataset and makes reading it much easier\n",
    "def explore_data(dataset, start, end, rows_and_columns=False):\n",
    "    dataset_slice = dataset[start:end]    \n",
    "    for row in dataset_slice:\n",
    "        print(row)\n",
    "        print('\\n') \n",
    "\n",
    "# This gives us the number of rows a dataset has and \n",
    "# the length as well if requested\n",
    "    if rows_and_columns:\n",
    "        print('Number of rows:', len(dataset))\n",
    "        print('Number of columns:', len(dataset[0]))"
   ]
  },
  {
   "cell_type": "markdown",
   "metadata": {},
   "source": [
    "Let's print a couple rows of each set to ensure the `explore_data` function is working properly and giving us the correct spacing."
   ]
  },
  {
   "cell_type": "code",
   "execution_count": 3,
   "metadata": {
    "scrolled": true
   },
   "outputs": [
    {
     "name": "stdout",
     "output_type": "stream",
     "text": [
      "['id', 'track_name', 'size_bytes', 'currency', 'price', 'rating_count_tot', 'rating_count_ver', 'user_rating', 'user_rating_ver', 'ver', 'cont_rating', 'prime_genre', 'sup_devices.num', 'ipadSc_urls.num', 'lang.num', 'vpp_lic']\n",
      "\n",
      "\n",
      "['284882215', 'Facebook', '389879808', 'USD', '0.0', '2974676', '212', '3.5', '3.5', '95.0', '4+', 'Social Networking', '37', '1', '29', '1']\n",
      "\n",
      "\n",
      "['389801252', 'Instagram', '113954816', 'USD', '0.0', '2161558', '1289', '4.5', '4.0', '10.23', '12+', 'Photo & Video', '37', '0', '29', '1']\n",
      "\n",
      "\n"
     ]
    }
   ],
   "source": [
    "explore_data(apps_ios_data, 0, 3)"
   ]
  },
  {
   "cell_type": "code",
   "execution_count": 4,
   "metadata": {},
   "outputs": [
    {
     "name": "stdout",
     "output_type": "stream",
     "text": [
      "['App', 'Category', 'Rating', 'Reviews', 'Size', 'Installs', 'Type', 'Price', 'Content Rating', 'Genres', 'Last Updated', 'Current Ver', 'Android Ver']\n",
      "\n",
      "\n",
      "['Photo Editor & Candy Camera & Grid & ScrapBook', 'ART_AND_DESIGN', '4.1', '159', '19M', '10,000+', 'Free', '0', 'Everyone', 'Art & Design', 'January 7, 2018', '1.0.0', '4.0.3 and up']\n",
      "\n",
      "\n",
      "['Coloring book moana', 'ART_AND_DESIGN', '3.9', '967', '14M', '500,000+', 'Free', '0', 'Everyone', 'Art & Design;Pretend Play', 'January 15, 2018', '2.0.0', '4.0.3 and up']\n",
      "\n",
      "\n"
     ]
    }
   ],
   "source": [
    "explore_data(apps_google_data, 0, 3)"
   ]
  },
  {
   "cell_type": "markdown",
   "metadata": {},
   "source": [
    "Let's isolate the headers of each column in the data sets and see how they are organized"
   ]
  },
  {
   "cell_type": "code",
   "execution_count": 5,
   "metadata": {},
   "outputs": [
    {
     "name": "stdout",
     "output_type": "stream",
     "text": [
      "['id', 'track_name', 'size_bytes', 'currency', 'price', 'rating_count_tot', 'rating_count_ver', 'user_rating', 'user_rating_ver', 'ver', 'cont_rating', 'prime_genre', 'sup_devices.num', 'ipadSc_urls.num', 'lang.num', 'vpp_lic']\n",
      "\n",
      "\n",
      "Number of rows: 7198\n",
      "Number of columns: 16\n",
      "['App', 'Category', 'Rating', 'Reviews', 'Size', 'Installs', 'Type', 'Price', 'Content Rating', 'Genres', 'Last Updated', 'Current Ver', 'Android Ver']\n",
      "\n",
      "\n",
      "Number of rows: 10842\n",
      "Number of columns: 13\n"
     ]
    }
   ],
   "source": [
    "explore_data(apps_ios_data, 0, 1, True)\n",
    "explore_data(apps_google_data, 0, 1, True)"
   ]
  },
  {
   "cell_type": "markdown",
   "metadata": {},
   "source": [
    "Below is a visual represention of them on a table and explaining what each column header means according to the [apple dataset](https://www.kaggle.com/ramamet4/app-store-apple-data-set-10k-apps) and the [google dataset](https://www.kaggle.com/lava18/google-play-store-apps) descriptions. "
   ]
  },
  {
   "cell_type": "markdown",
   "metadata": {},
   "source": [
    "## Column descriptions given for the ios apps in the App Store:\n",
    "\n",
    "| Column Name | Description |\n",
    "|-------|-------|\n",
    "| \"id\" | App Id |\n",
    "| \"track_name\" | App Name|\n",
    "| \"size_bytes\" | Size (in Bytes)|\n",
    "| \"currency\" | Currency Type |\n",
    "|\"price\" | Price amount|\n",
    "|\"ratingcounttot\"| User Rating counts (for all version)|\n",
    "|\"ratingcountver\"| User Rating counts (for current version)|\n",
    "|\"user_rating\" | Average User Rating value (for all version)|\n",
    "|\"userratingver\"| Average User Rating value (for current version)|\n",
    "|\"ver\" | Latest version code|\n",
    "|\"cont_rating\"| Content Rating|\n",
    "|\"prime_genre\"| Primary Genre|\n",
    "|\"sup_devices.num\"| Number of supporting devices|\n",
    "|\"ipadSc_urls.num\"| Number of screenshots showed for display|\n",
    "|\"lang.num\"| Number of supported languages|\n",
    "|\"vpp_lic\"| Vpp Device Based Licensing Enabled|\n"
   ]
  },
  {
   "cell_type": "markdown",
   "metadata": {},
   "source": [
    "## Column descriptions given for the Google Play Store Apps:\n",
    "\n",
    "| Column Name | Description |\n",
    "|-------|-------|\n",
    "| App | Application Name |\n",
    "| Category | Category the app belongs to|\n",
    "| Rating | Overall user rating of the app |\n",
    "| Reviews | Number of user reviews for the app |\n",
    "|Size | Size of the app|\n",
    "|Installs| Number of user downloads/installs for the app|\n",
    "|Type | Paid or Free|\n",
    "|Price |Price of app|\n",
    "|Content Rating| Age group the app is targeted at - Children/Mature 21+/ Adult|\n",
    "|Genres | An app can belong to multiple genres|\n",
    "|Last Updated| Date when the app was last updated on Play Store|\n",
    "|Current Ver| Current version of the app avaliable on Play Store|\n",
    "|Android Ver| Min. required Android version|\n",
    "\n"
   ]
  },
  {
   "cell_type": "markdown",
   "metadata": {},
   "source": [
    "We will determine which of these columns will be most useful to us in our analysis later. First we'll have to ensure the datasets are free of any errors that could impact our analysis and sift only the useful data.\n",
    "\n",
    "\n",
    "### Incorrect number of columns\n",
    "Reading the discussions in the [google dataset on Kaggle](https://www.kaggle.com/lava18/google-play-store-apps) there is an error in one of the apps that could effect our results in index position `10472` (without the header). Lets clean it up and see if there are any other problem apps in our dataset by checking for apps with missing columns."
   ]
  },
  {
   "cell_type": "code",
   "execution_count": 6,
   "metadata": {},
   "outputs": [
    {
     "name": "stdout",
     "output_type": "stream",
     "text": [
      "['Life Made WI-Fi Touchscreen Photo Frame', '1.9', '19', '3.0M', '1,000+', 'Free', '0', 'Everyone', '', 'February 11, 2018', '1.0.19', '4.0 and up']\n",
      "\n",
      "\n",
      "12\n"
     ]
    }
   ],
   "source": [
    "print(apps_google_data[10473])\n",
    "print('\\n')\n",
    "print(len(apps_google_data[10473]))"
   ]
  },
  {
   "cell_type": "markdown",
   "metadata": {},
   "source": [
    "The app seems to missing the `Category` column, let's delete it using the `del` statement and print the same index location to ensure it is gone.\n",
    "\n",
    "Afterwards we can check to see if any other apps in the google set and the ios set have apps missing any categories. If there are no results then there aren't any more apps missing columns."
   ]
  },
  {
   "cell_type": "code",
   "execution_count": 7,
   "metadata": {
    "scrolled": true
   },
   "outputs": [
    {
     "name": "stdout",
     "output_type": "stream",
     "text": [
      "[['Xposed Wi-Fi-Pwd', 'PERSONALIZATION', '3.5', '1042', '404k', '100,000+', 'Free', '0', 'Everyone', 'Personalization', 'August 5, 2014', '3.0.0', '4.0.3 and up'], ['osmino Wi-Fi: free WiFi', 'TOOLS', '4.2', '134203', '4.1M', '10,000,000+', 'Free', '0', 'Everyone', 'Tools', 'August 7, 2018', '6.06.14', '4.4 and up']]\n"
     ]
    }
   ],
   "source": [
    "del(apps_google_data[10473])\n",
    "print(apps_google_data[10472:10474])"
   ]
  },
  {
   "cell_type": "code",
   "execution_count": 8,
   "metadata": {},
   "outputs": [],
   "source": [
    "for row in apps_google_data:\n",
    "    if len(row) != 13:\n",
    "        print(row)"
   ]
  },
  {
   "cell_type": "code",
   "execution_count": 9,
   "metadata": {},
   "outputs": [],
   "source": [
    "for row in apps_ios_data[0:4]:\n",
    "    if len(row) != 16:\n",
    "        print(row)"
   ]
  },
  {
   "cell_type": "markdown",
   "metadata": {},
   "source": [
    "### Removing Duplicate Apps\n",
    "\n",
    "Looking into the discussions in the [google dataset on Kaggle](https://www.kaggle.com/lava18/google-play-store-apps) we see there are also duplicate apps listed which can comprimise our findings. Let's find them and get rid of them for both sets of data."
   ]
  },
  {
   "cell_type": "code",
   "execution_count": 10,
   "metadata": {
    "scrolled": true
   },
   "outputs": [
    {
     "name": "stdout",
     "output_type": "stream",
     "text": [
      "Number of duplicate apps: 1181\n",
      "\n",
      "\n",
      "Examples of duplicate apps: ['Quick PDF Scanner + OCR FREE', 'Box', 'Google My Business', 'ZOOM Cloud Meetings', 'join.me - Simple Meetings', 'Box', 'Zenefits', 'Google Ads', 'Google My Business', 'Slack', 'FreshBooks Classic', 'Insightly CRM', 'QuickBooks Accounting: Invoicing & Expenses', 'HipChat - Chat Built for Teams', 'Xero Accounting Software']\n"
     ]
    }
   ],
   "source": [
    "# Makes two seperate lists to sort duplicates and unique apps in\n",
    "duplicate_google_apps = []\n",
    "unique_google_apps = []\n",
    "\n",
    "for app in apps_google_data:\n",
    "    name = app[0]\n",
    "    if name in unique_google_apps:\n",
    "        duplicate_google_apps.append(name)\n",
    "    else:\n",
    "        unique_google_apps.append(name)\n",
    "        \n",
    "print('Number of duplicate apps:', len(duplicate_google_apps))\n",
    "print('\\n')\n",
    "print('Examples of duplicate apps:', duplicate_google_apps[:15])"
   ]
  },
  {
   "cell_type": "code",
   "execution_count": 11,
   "metadata": {},
   "outputs": [
    {
     "name": "stdout",
     "output_type": "stream",
     "text": [
      "Number of duplicate apps: 0\n",
      "\n",
      "\n",
      "example of duplicate apps: []\n"
     ]
    }
   ],
   "source": [
    "duplicate_ios_apps = []\n",
    "unique_ios_apps = []\n",
    "\n",
    "for app in apps_ios_data:\n",
    "    name = app[0]\n",
    "    if name in unique_ios_apps:\n",
    "        duplicate_ios_apps.append(name)\n",
    "    else:\n",
    "        unique_ios_apps.append(name)\n",
    "        \n",
    "print('Number of duplicate apps:', len(duplicate_ios_apps))\n",
    "print('\\n')\n",
    "print('example of duplicate apps:', duplicate_ios_apps[:15])"
   ]
  },
  {
   "cell_type": "markdown",
   "metadata": {},
   "source": [
    "From the results above it seems only the google set of data has duplicates in it. We can ignore the apple app data for the cleaning up of duplicate data.\n",
    "\n",
    "Looking through the comments on the discussion for the google apps we see that Instagram is one of the 1181 duplicate apps, so let's print each row that has a duplicate of it and further explore the data for each"
   ]
  },
  {
   "cell_type": "code",
   "execution_count": 12,
   "metadata": {
    "scrolled": false
   },
   "outputs": [
    {
     "name": "stdout",
     "output_type": "stream",
     "text": [
      "['Instagram', 'SOCIAL', '4.5', '66577313', 'Varies with device', '1,000,000,000+', 'Free', '0', 'Teen', 'Social', 'July 31, 2018', 'Varies with device', 'Varies with device']\n",
      "['Instagram', 'SOCIAL', '4.5', '66577446', 'Varies with device', '1,000,000,000+', 'Free', '0', 'Teen', 'Social', 'July 31, 2018', 'Varies with device', 'Varies with device']\n",
      "['Instagram', 'SOCIAL', '4.5', '66577313', 'Varies with device', '1,000,000,000+', 'Free', '0', 'Teen', 'Social', 'July 31, 2018', 'Varies with device', 'Varies with device']\n",
      "['Instagram', 'SOCIAL', '4.5', '66509917', 'Varies with device', '1,000,000,000+', 'Free', '0', 'Teen', 'Social', 'July 31, 2018', 'Varies with device', 'Varies with device']\n"
     ]
    }
   ],
   "source": [
    "for app in apps_google_data:\n",
    "    name = app[0]\n",
    "    if name == 'Instagram':\n",
    "        print(app)"
   ]
  },
  {
   "cell_type": "markdown",
   "metadata": {},
   "source": [
    "We can see that the only difference in each dataset is the fourth column which is the number of reviews. This would suggest that these duplicates are just older versions of the app with the highest number of reviews being the most recent version. We can use this and filter out the highest number of reviews and remove most, if not all, of the duplicate apps in this dataset"
   ]
  },
  {
   "cell_type": "markdown",
   "metadata": {},
   "source": [
    "We want to create a dictionary where each key is equal to a unique app name and the value is equal to the highest number of reviews. We first want to make an empty dictionary called `reviews_max` and `for loop` through the google app data and define which element of the row is the name and the number of reviews. After that we set an `if` statement that, if the app name is in the dictionary and the number of reviews for that app name is greater than the one in the dictionary we will replace the number of reviews for that entry. Otherwise we will add the app name into the dictionary and have a value of the number of reviews to that key. \n",
    "\n",
    "Afterward we want to double check that the length of `reviews_max` is matching up to the length of the `apps_google_data` minus an additional entry that we got rid of for having a mismatched number of columns."
   ]
  },
  {
   "cell_type": "code",
   "execution_count": 13,
   "metadata": {},
   "outputs": [
    {
     "name": "stdout",
     "output_type": "stream",
     "text": [
      "9659\n",
      "9659\n"
     ]
    }
   ],
   "source": [
    "reviews_max = {}\n",
    "\n",
    "for app in apps_google_data[1:]:\n",
    "    name = app[0]\n",
    "    n_reviews = float(app[3])\n",
    "    \n",
    "    # if the name of the app is in review_maxs and its has the\n",
    "    # highest number of reviews it will be appended to the dictionary\n",
    "    if name in reviews_max and reviews_max[name] < n_reviews:\n",
    "        reviews_max[name] = n_reviews\n",
    "    elif name not in reviews_max:\n",
    "        reviews_max[name] = n_reviews\n",
    "        \n",
    "print(len(apps_google_data) - 1181 - 1) # We substract an extra one due to our deletion earlier\n",
    "print(len(reviews_max))"
   ]
  },
  {
   "cell_type": "markdown",
   "metadata": {},
   "source": [
    " We want to now use `reviews_max` to filter out the duplicates in `apps_google_data` and put those filtered results into a new list `google_clean`. Then we go through the original dataset and defining name and the number of reviews to a variable similar to the above step. We can use an `if` statement to then compare if the name of the app in `reviews_max` has the same number of reviews and if the name of the app is already in a new list created called `already_created` then we append the app to the `google_clean` and the name to `already_added`. We include this `already_added` list as a double check as some apps may have multiple entries AND have the same amount of reviews. Without it we would still end up with those entries having the same amount of reviews and duplicated in our cleaned set.\n",
    " \n",
    " Then we can print out the length of the already_added list to see if it matches up with the number of apps in reviews_max."
   ]
  },
  {
   "cell_type": "code",
   "execution_count": 14,
   "metadata": {},
   "outputs": [
    {
     "name": "stdout",
     "output_type": "stream",
     "text": [
      "9659\n"
     ]
    }
   ],
   "source": [
    "google_clean = []\n",
    "already_added = []\n",
    "\n",
    "for app in apps_google_data[1:]:\n",
    "    name = app[0]\n",
    "    n_reviews = float(app[3])\n",
    "    \n",
    "    # need the already_added as a double check as some apps will have\n",
    "    # multiple entries and the same number of reviews\n",
    "    if reviews_max[name] == n_reviews and name not in already_added:\n",
    "        google_clean.append(app)\n",
    "        already_added.append(name)\n",
    "        \n",
    "print(len(already_added))"
   ]
  },
  {
   "cell_type": "code",
   "execution_count": 15,
   "metadata": {},
   "outputs": [
    {
     "name": "stdout",
     "output_type": "stream",
     "text": [
      "['Photo Editor & Candy Camera & Grid & ScrapBook', 'ART_AND_DESIGN', '4.1', '159', '19M', '10,000+', 'Free', '0', 'Everyone', 'Art & Design', 'January 7, 2018', '1.0.0', '4.0.3 and up']\n",
      "\n",
      "\n",
      "['U Launcher Lite – FREE Live Cool Themes, Hide Apps', 'ART_AND_DESIGN', '4.7', '87510', '8.7M', '5,000,000+', 'Free', '0', 'Everyone', 'Art & Design', 'August 1, 2018', '1.2.4', '4.0.3 and up']\n",
      "\n",
      "\n",
      "['Sketch - Draw & Paint', 'ART_AND_DESIGN', '4.5', '215644', '25M', '50,000,000+', 'Free', '0', 'Teen', 'Art & Design', 'June 8, 2018', 'Varies with device', '4.2 and up']\n",
      "\n",
      "\n",
      "Number of rows: 9659\n",
      "Number of columns: 13\n"
     ]
    }
   ],
   "source": [
    "explore_data(google_clean, 0, 3, True)"
   ]
  },
  {
   "cell_type": "markdown",
   "metadata": {},
   "source": [
    "### Filtering out non-English apps\n",
    "\n",
    "Now that the duplicates are taken care of we want to also clean the data of any non-english apps. The company only makes apps in english and thus non-english apps in their insights aren't relevant to our discussion and analysis. We can accomplish this by using ASCII which is a numerical value associated with each character used. English is in a range of 0 - 127 for the most commonly used English characters."
   ]
  },
  {
   "cell_type": "code",
   "execution_count": 16,
   "metadata": {},
   "outputs": [
    {
     "name": "stdout",
     "output_type": "stream",
     "text": [
      "True\n",
      "False\n",
      "True\n",
      "True\n",
      "False\n"
     ]
    }
   ],
   "source": [
    "# We define a function that will check each character in a string and\n",
    "# check if they are in the range of 0 - 127 ASCII for english \n",
    "def english_app (app_name):\n",
    "    n_ascii = 0\n",
    "    \n",
    "    for letter in app_name:\n",
    "        \n",
    "        if ord(letter) > 127:\n",
    "            n_ascii += 1\n",
    "    \n",
    "    # We allow three exceptions as many apps may have a symbol\n",
    "    # that falls out range but is acceptable (e.g. emoji or trademark)\n",
    "    if n_ascii > 3:\n",
    "        return False\n",
    "    else:\n",
    "        return True\n",
    "        \n",
    "print(english_app('Instagram'))\n",
    "print(english_app('爱奇艺PPS -《欢乐颂2》电视剧热播'))\n",
    "print(english_app('Docs To Go™ Free Office Suite'))\n",
    "print(english_app('Instachat 😜'))\n",
    "print(english_app('Docs To Go™™™™ Free Office Suite'))"
   ]
  },
  {
   "cell_type": "markdown",
   "metadata": {},
   "source": [
    "While this isn't 100% full proof in getting rid of all non-English apps it will remove a majority of them leading to better results for our analysis.\n",
    "\n",
    "Now we can use the function to clean the dataset and then use the `explore_data` function to look at our data."
   ]
  },
  {
   "cell_type": "code",
   "execution_count": 17,
   "metadata": {},
   "outputs": [
    {
     "name": "stdout",
     "output_type": "stream",
     "text": [
      "['Photo Editor & Candy Camera & Grid & ScrapBook', 'ART_AND_DESIGN', '4.1', '159', '19M', '10,000+', 'Free', '0', 'Everyone', 'Art & Design', 'January 7, 2018', '1.0.0', '4.0.3 and up']\n",
      "\n",
      "\n",
      "['U Launcher Lite – FREE Live Cool Themes, Hide Apps', 'ART_AND_DESIGN', '4.7', '87510', '8.7M', '5,000,000+', 'Free', '0', 'Everyone', 'Art & Design', 'August 1, 2018', '1.2.4', '4.0.3 and up']\n",
      "\n",
      "\n",
      "['Sketch - Draw & Paint', 'ART_AND_DESIGN', '4.5', '215644', '25M', '50,000,000+', 'Free', '0', 'Teen', 'Art & Design', 'June 8, 2018', 'Varies with device', '4.2 and up']\n",
      "\n",
      "\n",
      "Number of rows: 9614\n",
      "Number of columns: 13\n"
     ]
    }
   ],
   "source": [
    "google_clean_english = []\n",
    "\n",
    "for app in google_clean:\n",
    "    name = app[0]\n",
    "    \n",
    "    if english_app(name) == True:\n",
    "        google_clean_english.append(app)\n",
    "        \n",
    "explore_data(google_clean_english, 0, 3, True)"
   ]
  },
  {
   "cell_type": "code",
   "execution_count": 18,
   "metadata": {},
   "outputs": [
    {
     "name": "stdout",
     "output_type": "stream",
     "text": [
      "['id', 'track_name', 'size_bytes', 'currency', 'price', 'rating_count_tot', 'rating_count_ver', 'user_rating', 'user_rating_ver', 'ver', 'cont_rating', 'prime_genre', 'sup_devices.num', 'ipadSc_urls.num', 'lang.num', 'vpp_lic']\n",
      "\n",
      "\n",
      "['284882215', 'Facebook', '389879808', 'USD', '0.0', '2974676', '212', '3.5', '3.5', '95.0', '4+', 'Social Networking', '37', '1', '29', '1']\n",
      "\n",
      "\n",
      "['389801252', 'Instagram', '113954816', 'USD', '0.0', '2161558', '1289', '4.5', '4.0', '10.23', '12+', 'Photo & Video', '37', '0', '29', '1']\n",
      "\n",
      "\n",
      "Number of rows: 6184\n",
      "Number of columns: 16\n"
     ]
    }
   ],
   "source": [
    "ios_clean_english = []\n",
    "\n",
    "for app in apps_ios_data:\n",
    "    name = app[1]\n",
    "    \n",
    "    if english_app(name) == True:\n",
    "        ios_clean_english.append(app)\n",
    "        \n",
    "explore_data(ios_clean_english, 0, 3, True)"
   ]
  },
  {
   "cell_type": "markdown",
   "metadata": {},
   "source": [
    "### Filtering by Price\n",
    "\n",
    "Out last step to cleaning up the data will be to make a new list of data with only free apps. Since we are a company that only makes free apps for both the App store and Google Play Store we want to only anaylze these free to download apps to gain insight into that market."
   ]
  },
  {
   "cell_type": "code",
   "execution_count": 19,
   "metadata": {},
   "outputs": [
    {
     "name": "stdout",
     "output_type": "stream",
     "text": [
      "['Photo Editor & Candy Camera & Grid & ScrapBook', 'ART_AND_DESIGN', '4.1', '159', '19M', '10,000+', 'Free', '0', 'Everyone', 'Art & Design', 'January 7, 2018', '1.0.0', '4.0.3 and up']\n",
      "\n",
      "\n",
      "['U Launcher Lite – FREE Live Cool Themes, Hide Apps', 'ART_AND_DESIGN', '4.7', '87510', '8.7M', '5,000,000+', 'Free', '0', 'Everyone', 'Art & Design', 'August 1, 2018', '1.2.4', '4.0.3 and up']\n",
      "\n",
      "\n",
      "['Sketch - Draw & Paint', 'ART_AND_DESIGN', '4.5', '215644', '25M', '50,000,000+', 'Free', '0', 'Teen', 'Art & Design', 'June 8, 2018', 'Varies with device', '4.2 and up']\n",
      "\n",
      "\n",
      "Number of rows: 8864\n",
      "Number of columns: 13\n",
      "\n",
      "\n",
      "['284882215', 'Facebook', '389879808', 'USD', '0.0', '2974676', '212', '3.5', '3.5', '95.0', '4+', 'Social Networking', '37', '1', '29', '1']\n",
      "\n",
      "\n",
      "['389801252', 'Instagram', '113954816', 'USD', '0.0', '2161558', '1289', '4.5', '4.0', '10.23', '12+', 'Photo & Video', '37', '0', '29', '1']\n",
      "\n",
      "\n",
      "['529479190', 'Clash of Clans', '116476928', 'USD', '0.0', '2130805', '579', '4.5', '4.5', '9.24.12', '9+', 'Games', '38', '5', '18', '1']\n",
      "\n",
      "\n",
      "Number of rows: 3222\n",
      "Number of columns: 16\n"
     ]
    }
   ],
   "source": [
    "free_google_apps = []\n",
    "free_ios_apps = []\n",
    "\n",
    "for app in google_clean_english:\n",
    "    price = app[7]\n",
    "    \n",
    "    if price == '0':\n",
    "        free_google_apps.append(app)\n",
    "        \n",
    "\n",
    "for app in ios_clean_english:\n",
    "    price = app[4]\n",
    "    \n",
    "    if price == '0.0':\n",
    "        free_ios_apps.append(app)\n",
    "        \n",
    "explore_data(free_google_apps, 0, 3, True)\n",
    "print('\\n')\n",
    "explore_data(free_ios_apps, 0, 3, True)"
   ]
  },
  {
   "cell_type": "markdown",
   "metadata": {},
   "source": [
    "### Analysis of Data\n",
    "\n",
    "At this point we have cleaned all the data of inaccurate data, duplicates, non-English apps, and paid apps. While there may be some outliers left in the datasets we have done a reasonable amount of cleaning and should be left with reliable datasets to use. We can now move onto on intended goal of this project in finding out which free apps attract more user engagement and thus bring in more ad revenue.\n",
    "\n",
    "In order to determine that we first want to make frequency tables to determine the most common genres in both Google's Play Store and the App Store. The best candidates for each set of data would be to use `'prime_genre'` from the ios apps and `Genres` and `Category` from google apps."
   ]
  },
  {
   "cell_type": "code",
   "execution_count": 20,
   "metadata": {},
   "outputs": [],
   "source": [
    "def freq_table(dataset, index):\n",
    "    table = {}\n",
    "    total = 0\n",
    "    \n",
    "    for row in dataset:\n",
    "        total += 1\n",
    "        value = row[index]\n",
    "        \n",
    "        if value in table:\n",
    "            table[value] += 1\n",
    "        else:\n",
    "            table[value] = 1\n",
    "    \n",
    "    table_percentages = {}\n",
    "    \n",
    "    for key in table:\n",
    "        percentage = (table[key] / total) * 100\n",
    "        table_percentages[key] = percentage \n",
    "    \n",
    "    return table_percentages"
   ]
  },
  {
   "cell_type": "code",
   "execution_count": 21,
   "metadata": {},
   "outputs": [],
   "source": [
    "def display_table(dataset, index):\n",
    "    table = freq_table(dataset, index)\n",
    "    table_display = []\n",
    "    for key in table:\n",
    "        key_val_as_tuple = (table[key], key)\n",
    "        table_display.append(key_val_as_tuple)\n",
    "\n",
    "    table_sorted = sorted(table_display, reverse = True)\n",
    "    for entry in table_sorted:\n",
    "        print(entry[1], ':', entry[0])"
   ]
  },
  {
   "cell_type": "code",
   "execution_count": 22,
   "metadata": {
    "scrolled": true
   },
   "outputs": [
    {
     "name": "stdout",
     "output_type": "stream",
     "text": [
      "FAMILY : 18.907942238267147\n",
      "GAME : 9.724729241877256\n",
      "TOOLS : 8.461191335740072\n",
      "BUSINESS : 4.591606498194946\n",
      "LIFESTYLE : 3.9034296028880866\n",
      "PRODUCTIVITY : 3.892148014440433\n",
      "FINANCE : 3.7003610108303246\n",
      "MEDICAL : 3.531137184115524\n",
      "SPORTS : 3.395758122743682\n",
      "PERSONALIZATION : 3.3167870036101084\n",
      "COMMUNICATION : 3.2378158844765346\n",
      "HEALTH_AND_FITNESS : 3.0798736462093865\n",
      "PHOTOGRAPHY : 2.944494584837545\n",
      "NEWS_AND_MAGAZINES : 2.7978339350180503\n",
      "SOCIAL : 2.6624548736462095\n",
      "TRAVEL_AND_LOCAL : 2.33528880866426\n",
      "SHOPPING : 2.2450361010830324\n",
      "BOOKS_AND_REFERENCE : 2.1435018050541514\n",
      "DATING : 1.861462093862816\n",
      "VIDEO_PLAYERS : 1.7937725631768955\n",
      "MAPS_AND_NAVIGATION : 1.3989169675090252\n",
      "FOOD_AND_DRINK : 1.2409747292418771\n",
      "EDUCATION : 1.1620036101083033\n",
      "ENTERTAINMENT : 0.9589350180505415\n",
      "LIBRARIES_AND_DEMO : 0.9363718411552346\n",
      "AUTO_AND_VEHICLES : 0.9250902527075812\n",
      "HOUSE_AND_HOME : 0.8235559566787004\n",
      "WEATHER : 0.8009927797833934\n",
      "EVENTS : 0.7107400722021661\n",
      "PARENTING : 0.6543321299638989\n",
      "ART_AND_DESIGN : 0.6430505415162455\n",
      "COMICS : 0.6204873646209386\n",
      "BEAUTY : 0.5979241877256317\n"
     ]
    }
   ],
   "source": [
    "display_table(free_google_apps, 1)"
   ]
  },
  {
   "cell_type": "code",
   "execution_count": 23,
   "metadata": {},
   "outputs": [
    {
     "name": "stdout",
     "output_type": "stream",
     "text": [
      "Tools : 8.449909747292418\n",
      "Entertainment : 6.069494584837545\n",
      "Education : 5.347472924187725\n",
      "Business : 4.591606498194946\n",
      "Productivity : 3.892148014440433\n",
      "Lifestyle : 3.892148014440433\n",
      "Finance : 3.7003610108303246\n",
      "Medical : 3.531137184115524\n",
      "Sports : 3.463447653429603\n",
      "Personalization : 3.3167870036101084\n",
      "Communication : 3.2378158844765346\n",
      "Action : 3.1024368231046933\n",
      "Health & Fitness : 3.0798736462093865\n",
      "Photography : 2.944494584837545\n",
      "News & Magazines : 2.7978339350180503\n",
      "Social : 2.6624548736462095\n",
      "Travel & Local : 2.3240072202166067\n",
      "Shopping : 2.2450361010830324\n",
      "Books & Reference : 2.1435018050541514\n",
      "Simulation : 2.0419675090252705\n",
      "Dating : 1.861462093862816\n",
      "Arcade : 1.8501805054151623\n",
      "Video Players & Editors : 1.7712093862815883\n",
      "Casual : 1.7599277978339352\n",
      "Maps & Navigation : 1.3989169675090252\n",
      "Food & Drink : 1.2409747292418771\n",
      "Puzzle : 1.128158844765343\n",
      "Racing : 0.9927797833935018\n",
      "Role Playing : 0.9363718411552346\n",
      "Libraries & Demo : 0.9363718411552346\n",
      "Auto & Vehicles : 0.9250902527075812\n",
      "Strategy : 0.9138086642599278\n",
      "House & Home : 0.8235559566787004\n",
      "Weather : 0.8009927797833934\n",
      "Events : 0.7107400722021661\n",
      "Adventure : 0.6768953068592057\n",
      "Comics : 0.6092057761732852\n",
      "Beauty : 0.5979241877256317\n",
      "Art & Design : 0.5979241877256317\n",
      "Parenting : 0.4963898916967509\n",
      "Card : 0.45126353790613716\n",
      "Casino : 0.42870036101083037\n",
      "Trivia : 0.41741877256317694\n",
      "Educational;Education : 0.39485559566787\n",
      "Board : 0.3835740072202166\n",
      "Educational : 0.3722924187725632\n",
      "Education;Education : 0.33844765342960287\n",
      "Word : 0.2594765342960289\n",
      "Casual;Pretend Play : 0.236913357400722\n",
      "Music : 0.2030685920577617\n",
      "Racing;Action & Adventure : 0.16922382671480143\n",
      "Puzzle;Brain Games : 0.16922382671480143\n",
      "Entertainment;Music & Video : 0.16922382671480143\n",
      "Casual;Brain Games : 0.13537906137184114\n",
      "Casual;Action & Adventure : 0.13537906137184114\n",
      "Arcade;Action & Adventure : 0.12409747292418773\n",
      "Action;Action & Adventure : 0.10153429602888085\n",
      "Educational;Pretend Play : 0.09025270758122744\n",
      "Simulation;Action & Adventure : 0.078971119133574\n",
      "Parenting;Education : 0.078971119133574\n",
      "Entertainment;Brain Games : 0.078971119133574\n",
      "Board;Brain Games : 0.078971119133574\n",
      "Parenting;Music & Video : 0.06768953068592057\n",
      "Educational;Brain Games : 0.06768953068592057\n",
      "Casual;Creativity : 0.06768953068592057\n",
      "Art & Design;Creativity : 0.06768953068592057\n",
      "Education;Pretend Play : 0.056407942238267145\n",
      "Role Playing;Pretend Play : 0.04512635379061372\n",
      "Education;Creativity : 0.04512635379061372\n",
      "Role Playing;Action & Adventure : 0.033844765342960284\n",
      "Puzzle;Action & Adventure : 0.033844765342960284\n",
      "Entertainment;Creativity : 0.033844765342960284\n",
      "Entertainment;Action & Adventure : 0.033844765342960284\n",
      "Educational;Creativity : 0.033844765342960284\n",
      "Educational;Action & Adventure : 0.033844765342960284\n",
      "Education;Music & Video : 0.033844765342960284\n",
      "Education;Brain Games : 0.033844765342960284\n",
      "Education;Action & Adventure : 0.033844765342960284\n",
      "Adventure;Action & Adventure : 0.033844765342960284\n",
      "Video Players & Editors;Music & Video : 0.02256317689530686\n",
      "Sports;Action & Adventure : 0.02256317689530686\n",
      "Simulation;Pretend Play : 0.02256317689530686\n",
      "Puzzle;Creativity : 0.02256317689530686\n",
      "Music;Music & Video : 0.02256317689530686\n",
      "Entertainment;Pretend Play : 0.02256317689530686\n",
      "Casual;Education : 0.02256317689530686\n",
      "Board;Action & Adventure : 0.02256317689530686\n",
      "Video Players & Editors;Creativity : 0.01128158844765343\n",
      "Trivia;Education : 0.01128158844765343\n",
      "Travel & Local;Action & Adventure : 0.01128158844765343\n",
      "Tools;Education : 0.01128158844765343\n",
      "Strategy;Education : 0.01128158844765343\n",
      "Strategy;Creativity : 0.01128158844765343\n",
      "Strategy;Action & Adventure : 0.01128158844765343\n",
      "Simulation;Education : 0.01128158844765343\n",
      "Role Playing;Brain Games : 0.01128158844765343\n",
      "Racing;Pretend Play : 0.01128158844765343\n",
      "Puzzle;Education : 0.01128158844765343\n",
      "Parenting;Brain Games : 0.01128158844765343\n",
      "Music & Audio;Music & Video : 0.01128158844765343\n",
      "Lifestyle;Pretend Play : 0.01128158844765343\n",
      "Lifestyle;Education : 0.01128158844765343\n",
      "Health & Fitness;Education : 0.01128158844765343\n",
      "Health & Fitness;Action & Adventure : 0.01128158844765343\n",
      "Entertainment;Education : 0.01128158844765343\n",
      "Communication;Creativity : 0.01128158844765343\n",
      "Comics;Creativity : 0.01128158844765343\n",
      "Casual;Music & Video : 0.01128158844765343\n",
      "Card;Action & Adventure : 0.01128158844765343\n",
      "Books & Reference;Education : 0.01128158844765343\n",
      "Art & Design;Pretend Play : 0.01128158844765343\n",
      "Art & Design;Action & Adventure : 0.01128158844765343\n",
      "Arcade;Pretend Play : 0.01128158844765343\n",
      "Adventure;Education : 0.01128158844765343\n"
     ]
    }
   ],
   "source": [
    "display_table(free_google_apps, 9)"
   ]
  },
  {
   "cell_type": "markdown",
   "metadata": {},
   "source": [
    "#### Google Play Store Data \n",
    "\n",
    "For the google play store data it seems there is a wide variety of apps which make up the store without any one genre completely overshadowing the others, the most frequent being the Family category. If you look on the google play store itself and sort by family you do see that it does include games for kids though which we should be mindful of in our analysis. This doesn't diminish though the wide variety of apps that have a sizeable amount on the store which is in contrast to the apple store data we will see below.\n",
    "\n",
    "While the genres column was useful we are trying to find the big picture findings for which apps to make. From this point forward we will only use the category column from the app data when comparing types of apps on the store as the category only uses one category for classifying an app rather then having multiple genres bogging down the big picture.\n",
    "\n",
    "##### Suggestion for App creation\n",
    "\n",
    "My suggestion based on the above information is to create apps in bo the Health and Fitness category.\n",
    "\n",
    "The Health and Fitness category includes pedometer, sleep tracking, nutrtion tracking, and exercise apps for a wider variety of fitness programs. While the market share on the app store is smaller (~3% of apps on the Google Play Store) this could be a potential space to make a quality fitness app that could gain traction.\n",
    "\n",
    "A majority of the top fitness apps usually have a monthly paywall beyond the basic introductory workouts. We could create an app which could generate ad revenue by offering a wide variety of fitness class videos and instructions by playing ads before a workout, smaller ads during rest periods, and on load up of the app. The smaller ad revenue could be ofset by a bigger user base and we can offer daily goals and connection to peers in order to keep the user base coming back.\n"
   ]
  },
  {
   "cell_type": "code",
   "execution_count": 24,
   "metadata": {},
   "outputs": [
    {
     "name": "stdout",
     "output_type": "stream",
     "text": [
      "Games : 58.16263190564867\n",
      "Entertainment : 7.883302296710118\n",
      "Photo & Video : 4.9658597144630665\n",
      "Education : 3.662321539416512\n",
      "Social Networking : 3.2898820608317814\n",
      "Shopping : 2.60707635009311\n",
      "Utilities : 2.5139664804469275\n",
      "Sports : 2.1415270018621975\n",
      "Music : 2.0484171322160147\n",
      "Health & Fitness : 2.0173805090006205\n",
      "Productivity : 1.7380509000620732\n",
      "Lifestyle : 1.5828677839851024\n",
      "News : 1.3345747982619491\n",
      "Travel : 1.2414649286157666\n",
      "Finance : 1.1173184357541899\n",
      "Weather : 0.8690254500310366\n",
      "Food & Drink : 0.8069522036002483\n",
      "Reference : 0.5586592178770949\n",
      "Business : 0.5276225946617008\n",
      "Book : 0.4345127250155183\n",
      "Navigation : 0.186219739292365\n",
      "Medical : 0.186219739292365\n",
      "Catalogs : 0.12414649286157665\n"
     ]
    }
   ],
   "source": [
    "display_table(free_ios_apps, 11)"
   ]
  },
  {
   "cell_type": "markdown",
   "metadata": {},
   "source": [
    "#### App Store Data "
   ]
  },
  {
   "cell_type": "code",
   "execution_count": 25,
   "metadata": {},
   "outputs": [
    {
     "name": "stdout",
     "output_type": "stream",
     "text": [
      "Social Networking\n",
      "71548.34905660378\n",
      "\n",
      "\n",
      "Photo & Video\n",
      "28441.54375\n",
      "\n",
      "\n",
      "Games\n",
      "22788.6696905016\n",
      "\n",
      "\n",
      "Music\n",
      "57326.530303030304\n",
      "\n",
      "\n",
      "Reference\n",
      "74942.11111111111\n",
      "\n",
      "\n",
      "Health & Fitness\n",
      "23298.015384615384\n",
      "\n",
      "\n",
      "Weather\n",
      "52279.892857142855\n",
      "\n",
      "\n",
      "Utilities\n",
      "18684.456790123455\n",
      "\n",
      "\n",
      "Travel\n",
      "28243.8\n",
      "\n",
      "\n",
      "Shopping\n",
      "26919.690476190477\n",
      "\n",
      "\n",
      "News\n",
      "21248.023255813954\n",
      "\n",
      "\n",
      "Navigation\n",
      "86090.33333333333\n",
      "\n",
      "\n",
      "Lifestyle\n",
      "16485.764705882353\n",
      "\n",
      "\n",
      "Entertainment\n",
      "14029.830708661417\n",
      "\n",
      "\n",
      "Food & Drink\n",
      "33333.92307692308\n",
      "\n",
      "\n",
      "Sports\n",
      "23008.898550724636\n",
      "\n",
      "\n",
      "Book\n",
      "39758.5\n",
      "\n",
      "\n",
      "Finance\n",
      "31467.944444444445\n",
      "\n",
      "\n",
      "Education\n",
      "7003.983050847458\n",
      "\n",
      "\n",
      "Productivity\n",
      "21028.410714285714\n",
      "\n",
      "\n",
      "Business\n",
      "7491.117647058823\n",
      "\n",
      "\n",
      "Catalogs\n",
      "4004.0\n",
      "\n",
      "\n",
      "Medical\n",
      "612.0\n",
      "\n",
      "\n"
     ]
    }
   ],
   "source": [
    "table_ios = freq_table(free_ios_apps, 11)\n",
    "\n",
    "for genre in table_ios:\n",
    "    total_ur = 0    # sum of user ratings\n",
    "    len_genre = 0   # number of apps specific to each genre\n",
    "    \n",
    "    for app in free_ios_apps: \n",
    "        genre_app = app[11]\n",
    "        \n",
    "        if genre_app == genre:\n",
    "            n_rating = float(app[5])\n",
    "            total_ur += n_rating\n",
    "            len_genre += 1\n",
    "            \n",
    "    avg_n_rating = total_ur/len_genre\n",
    "    \n",
    "    print(genre)\n",
    "    print(avg_n_rating)\n",
    "    print('\\n')"
   ]
  },
  {
   "cell_type": "code",
   "execution_count": 26,
   "metadata": {},
   "outputs": [
    {
     "name": "stdout",
     "output_type": "stream",
     "text": [
      "1,000,000+ : 15.726534296028879\n",
      "100,000+ : 11.552346570397113\n",
      "10,000,000+ : 10.548285198555957\n",
      "10,000+ : 10.198555956678701\n",
      "1,000+ : 8.393501805054152\n",
      "100+ : 6.915613718411552\n",
      "5,000,000+ : 6.825361010830325\n",
      "500,000+ : 5.561823104693141\n",
      "50,000+ : 4.7721119133574\n",
      "5,000+ : 4.512635379061372\n",
      "10+ : 3.5424187725631766\n",
      "500+ : 3.2490974729241873\n",
      "50,000,000+ : 2.3014440433213\n",
      "100,000,000+ : 2.1322202166064983\n",
      "50+ : 1.917870036101083\n",
      "5+ : 0.78971119133574\n",
      "1+ : 0.5076714801444043\n",
      "500,000,000+ : 0.2707581227436823\n",
      "1,000,000,000+ : 0.22563176895306858\n",
      "0+ : 0.04512635379061372\n",
      "0 : 0.01128158844765343\n"
     ]
    }
   ],
   "source": [
    "display_table(free_google_apps, 5)"
   ]
  },
  {
   "cell_type": "code",
   "execution_count": 27,
   "metadata": {},
   "outputs": [
    {
     "name": "stdout",
     "output_type": "stream",
     "text": [
      "ART_AND_DESIGN : 1986335.0877192982\n",
      "AUTO_AND_VEHICLES : 647317.8170731707\n",
      "BEAUTY : 513151.88679245283\n",
      "BOOKS_AND_REFERENCE : 8767811.894736841\n",
      "BUSINESS : 1712290.1474201474\n",
      "COMICS : 817657.2727272727\n",
      "COMMUNICATION : 38456119.167247385\n",
      "DATING : 854028.8303030303\n",
      "EDUCATION : 1833495.145631068\n",
      "ENTERTAINMENT : 11640705.88235294\n",
      "EVENTS : 253542.22222222222\n",
      "FINANCE : 1387692.475609756\n",
      "FOOD_AND_DRINK : 1924897.7363636363\n",
      "HEALTH_AND_FITNESS : 4188821.9853479853\n",
      "HOUSE_AND_HOME : 1331540.5616438356\n",
      "LIBRARIES_AND_DEMO : 638503.734939759\n",
      "LIFESTYLE : 1437816.2687861272\n",
      "GAME : 15588015.603248259\n",
      "FAMILY : 3695641.8198090694\n",
      "MEDICAL : 120550.61980830671\n",
      "SOCIAL : 23253652.127118643\n",
      "SHOPPING : 7036877.311557789\n",
      "PHOTOGRAPHY : 17840110.40229885\n",
      "SPORTS : 3638640.1428571427\n",
      "TRAVEL_AND_LOCAL : 13984077.710144928\n",
      "TOOLS : 10801391.298666667\n",
      "PERSONALIZATION : 5201482.6122448975\n",
      "PRODUCTIVITY : 16787331.344927534\n",
      "PARENTING : 542603.6206896552\n",
      "WEATHER : 5074486.197183099\n",
      "VIDEO_PLAYERS : 24727872.452830188\n",
      "NEWS_AND_MAGAZINES : 9549178.467741935\n",
      "MAPS_AND_NAVIGATION : 4056941.7741935486\n"
     ]
    }
   ],
   "source": [
    "table_google = freq_table(free_google_apps, 1)\n",
    "\n",
    "for category in table_google:\n",
    "    total_in = 0       #sum of installs for genre\n",
    "    len_category = 0   #number of apps specific to genre\n",
    "    \n",
    "    for app in free_google_apps:\n",
    "        category_app = app[1]\n",
    "        if category_app == category:\n",
    "            n_installs = app[5]\n",
    "            n_installs = n_installs.replace('+' , '')\n",
    "            n_installs = float(n_installs.replace(',' , ''))\n",
    "            total_in += n_installs\n",
    "            len_category += 1\n",
    "            \n",
    "    avg_num_in = total_in / len_category\n",
    "    print(category, ':', avg_num_in)"
   ]
  },
  {
   "cell_type": "markdown",
   "metadata": {},
   "source": [
    "Looking at the App Store data we can see that games occupies 58% of the apps on the store by a huge margin with the next highest dominating app being entertainment at 7.8%. It also seems that more entertainment based apps (games, photos and video, social networking, etc.) compared to practical apps (education, shopping, utilities, productivity, etc.) are present in the store. \n",
    "\n",
    "With the present data we have it would seem that the games category could be a possible avenue for our company to create app for on the apple store. However, just because a large amount of apps are games on the platform doesn't automatically coorelate to engagement or a large number of users on game apps. "
   ]
  }
 ],
 "metadata": {
  "kernelspec": {
   "display_name": "Python 3",
   "language": "python",
   "name": "python3"
  },
  "language_info": {
   "codemirror_mode": {
    "name": "ipython",
    "version": 3
   },
   "file_extension": ".py",
   "mimetype": "text/x-python",
   "name": "python",
   "nbconvert_exporter": "python",
   "pygments_lexer": "ipython3",
   "version": "3.8.2"
  }
 },
 "nbformat": 4,
 "nbformat_minor": 2
}
